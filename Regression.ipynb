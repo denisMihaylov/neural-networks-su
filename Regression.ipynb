{
 "cells": [
  {
   "cell_type": "code",
   "execution_count": 1,
   "metadata": {},
   "outputs": [
    {
     "name": "stderr",
     "output_type": "stream",
     "text": [
      "c:\\program files\\python\\python36\\lib\\site-packages\\h5py\\__init__.py:36: FutureWarning: Conversion of the second argument of issubdtype from `float` to `np.floating` is deprecated. In future, it will be treated as `np.float64 == np.dtype(float).type`.\n",
      "  from ._conv import register_converters as _register_converters\n",
      "Using TensorFlow backend.\n"
     ]
    }
   ],
   "source": [
    "import numpy as np\n",
    "\n",
    "from keras.models import Sequential\n",
    "from keras.layers import Dense\n",
    "from keras.optimizers import SGD\n",
    "\n",
    "from matplotlib import pyplot as plt"
   ]
  },
  {
   "cell_type": "code",
   "execution_count": 2,
   "metadata": {},
   "outputs": [],
   "source": [
    "train_dataset = np.loadtxt(\"train_regression_dataset.csv\", delimiter=',')\n",
    "test_dataset = np.loadtxt(\"test_regression_dataset.csv\", delimiter=',')"
   ]
  },
  {
   "cell_type": "code",
   "execution_count": 3,
   "metadata": {},
   "outputs": [],
   "source": [
    "features_count = 4\n",
    "X_train = train_dataset[:, :features_count]\n",
    "y_train = train_dataset[:, features_count:]\n",
    "X_test = test_dataset[:, :features_count]\n",
    "y_test = test_dataset[:, features_count:]"
   ]
  },
  {
   "cell_type": "code",
   "execution_count": 4,
   "metadata": {},
   "outputs": [],
   "source": [
    "def plot_history(history, metrics=['loss']):\n",
    "    for metric in metrics:\n",
    "        plt.plot(history.history[metric], label=metric)\n",
    "        plt.ylabel(metric)\n",
    "        plt.xlabel('epoch')\n",
    "        plt.show()"
   ]
  },
  {
   "cell_type": "markdown",
   "metadata": {},
   "source": [
    "### Linear Model"
   ]
  },
  {
   "cell_type": "code",
   "execution_count": 5,
   "metadata": {},
   "outputs": [
    {
     "data": {
      "image/png": "[encoded data removed]",
      "text/plain": [
       "<Figure size 432x288 with 1 Axes>"
      ]
     },
     "metadata": {},
     "output_type": "display_data"
    },
    {
     "name": "stdout",
     "output_type": "stream",
     "text": [
      "2100/2100 [==============================] - 0s 39us/step\n",
      "11900/11900 [==============================] - 0s 30us/step\n",
      "Train Loss: 0.0016\n",
      "Test Loss: 0.0015\n"
     ]
    }
   ],
   "source": [
    "model = Sequential()\n",
    "model.add(Dense(2, activation='linear', input_dim=4))\n",
    "\n",
    "model.compile(SGD(lr=0.5), 'mean_squared_error')\n",
    "\n",
    "history = model.fit(X_train, y_train, epochs=15, verbose=0)\n",
    "\n",
    "plot_history(history, ['loss'])\n",
    "\n",
    "train_loss = model.evaluate(X_test, y_test)\n",
    "test_loss = model.evaluate(X_train, y_train)\n",
    "\n",
    "print(\"Train Loss: %.4f\" % train_loss)\n",
    "print(\"Test Loss: %.4f\" % test_loss)"
   ]
  },
  {
   "cell_type": "markdown",
   "metadata": {},
   "source": [
    "### With recommendation from EasyNN"
   ]
  },
  {
   "cell_type": "code",
   "execution_count": 6,
   "metadata": {},
   "outputs": [
    {
     "name": "stdout",
     "output_type": "stream",
     "text": [
      "WARNING:tensorflow:Variable *= will be deprecated. Use variable.assign_mul if you want assignment to the variable value or 'x = x * y' if you want a new python Tensor object.\n"
     ]
    },
    {
     "data": {
      "image/png": "[encoded data removed]",
      "text/plain": [
       "<Figure size 432x288 with 1 Axes>"
      ]
     },
     "metadata": {},
     "output_type": "display_data"
    },
    {
     "name": "stdout",
     "output_type": "stream",
     "text": [
      "2100/2100 [==============================] - 0s 43us/step\n",
      "11900/11900 [==============================] - 0s 32us/step\n",
      "Train Loss: 0.0007\n",
      "Test Loss: 0.0006\n"
     ]
    }
   ],
   "source": [
    "model = Sequential()\n",
    "model.add(Dense(6, activation='sigmoid', input_dim=4))\n",
    "model.add(Dense(2, activation='linear'))\n",
    "\n",
    "model.compile(SGD(lr=0.7, decay=1e-6, momentum=0.8), 'mean_squared_error')\n",
    "\n",
    "history = model.fit(X_train, y_train, epochs=15, verbose=0)\n",
    "\n",
    "plot_history(history, ['loss'])\n",
    "\n",
    "train_loss = model.evaluate(X_test, y_test)\n",
    "test_loss = model.evaluate(X_train, y_train)\n",
    "\n",
    "print(\"Train Loss: %.4f\" % train_loss)\n",
    "print(\"Test Loss: %.4f\" % test_loss)"
   ]
  }
 ],
 "metadata": {
  "kernelspec": {
   "display_name": "Python 3",
   "language": "python",
   "name": "python3"
  },
  "language_info": {
   "codemirror_mode": {
    "name": "ipython",
    "version": 3
   },
   "file_extension": ".py",
   "mimetype": "text/x-python",
   "name": "python",
   "nbconvert_exporter": "python",
   "pygments_lexer": "ipython3",
   "version": "3.6.4"
  }
 },
 "nbformat": 4,
 "nbformat_minor": 2
}
