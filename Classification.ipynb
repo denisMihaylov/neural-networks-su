{
 "cells": [
  {
   "cell_type": "code",
   "execution_count": null,
   "metadata": {},
   "outputs": [],
   "source": [
    "import numpy as np\n",
    "\n",
    "from keras.models import Sequential\n",
    "from keras.layers import Dense\n",
    "from keras.utils import to_categorical\n",
    "\n",
    "from matplotlib import pyplot as plt"
   ]
  },
  {
   "cell_type": "code",
   "execution_count": null,
   "metadata": {},
   "outputs": [],
   "source": [
    "train_dataset = np.loadtxt(\"train_dataset.csv\", delimiter=',')\n",
    "test_dataset = np.loadtxt(\"test_dataset.csv\", delimiter=',')"
   ]
  },
  {
   "cell_type": "code",
   "execution_count": null,
   "metadata": {},
   "outputs": [],
   "source": [
    "X_train = train_dataset[:, :3]\n",
    "y_train = train_dataset[:, 3:]\n",
    "X_test = test_dataset[:, :3]\n",
    "y_test = test_dataset[:, 3:]"
   ]
  },
  {
   "cell_type": "code",
   "execution_count": null,
   "metadata": {},
   "outputs": [],
   "source": [
    "def plot_history(history, metrics=['loss']):\n",
    "    for metric in metrics:\n",
    "        plt.plot(history.history[metric], label=metric)\n",
    "        plt.ylabel(metric)\n",
    "        plt.xlabel('epoch')\n",
    "        plt.show()"
   ]
  },
  {
   "cell_type": "code",
   "execution_count": null,
   "metadata": {},
   "outputs": [],
   "source": [
    "def plot_decision_boundary(X, y, model):\n",
    "    \n",
    "    cmap = plt.get_cmap('Paired')\n",
    "    steps = 100\n",
    "    \n",
    "    # Define region of interest by data limits\n",
    "    xmin, xmax = X[:,0].min() - 1, X[:,0].max() + 1\n",
    "    ymin, ymax = X[:,1].min() - 1, X[:,1].max() + 1\n",
    "    x_span = np.linspace(xmin, xmax, steps)\n",
    "    y_span = np.linspace(ymin, ymax, steps)\n",
    "    xx, yy = np.meshgrid(x_span, y_span)\n",
    "\n",
    "    # Make predictions across region of interest\n",
    "    labels = model.predict(np.c_[xx.ravel(), yy.ravel(), np.zeros_like(xx.ravel())], batch_size=10000)\n",
    "    \n",
    "    labels = np.argmax(labels, axis=1)\n",
    "\n",
    "    # Plot decision boundary in region of interest\n",
    "    labels = labels.reshape(xx.shape)\n",
    "    \n",
    "    fig, ax = plt.subplots()\n",
    "    ax.contourf(xx, yy, labels, cmap=cmap, alpha=0.5)\n",
    "\n",
    "    # Get predicted labels on training data and plot\n",
    "    ax.scatter(X[:,0], X[:,1], c=y, cmap=cmap, lw=0)\n",
    "    \n",
    "    return fig, ax"
   ]
  },
  {
   "cell_type": "code",
   "execution_count": null,
   "metadata": {},
   "outputs": [],
   "source": [
    "model = Sequential()\n",
    "model.add(Dense(3, activation='softmax', input_dim=3))\n",
    "\n",
    "model.compile('adam', 'categorical_crossentropy', metrics=['accuracy'])\n",
    "\n",
    "history = model.fit(X_train, y_train, epochs=40, verbose=1)\n",
    "\n",
    "plot_history(history, ['acc'])\n",
    "\n",
    "train_accuracy = model.evaluate(X_test, y_test)[1]\n",
    "test_accuracy = model.evaluate(X_train, y_train)[1]\n",
    "\n",
    "print(\"Train Accuracy: %.3f\" % train_accuracy)\n",
    "print(\"Test Accuracy: %.3f\" % test_accuracy)\n",
    "\n",
    "plot_decision_boundary(X_train, y_train, model);"
   ]
  },
  {
   "cell_type": "code",
   "execution_count": null,
   "metadata": {},
   "outputs": [],
   "source": [
    "model = Sequential()\n",
    "model.add(Dense(5, activation='relu', input_dim=3))\n",
    "model.add(Dense(3, activation='softmax'))\n",
    "\n",
    "model.compile('adam', 'categorical_crossentropy', metrics=['accuracy'])\n",
    "\n",
    "history = model.fit(X_train, y_train, epochs=40, verbose=1)\n",
    "\n",
    "plot_history(history, ['acc'])\n",
    "\n",
    "train_accuracy = model.evaluate(X_test, y_test)[1]\n",
    "test_accuracy = model.evaluate(X_train, y_train)[1]\n",
    "\n",
    "print(\"Train Accuracy: %.3f\" % train_accuracy)\n",
    "print(\"Test Accuracy: %.3f\" % test_accuracy)\n",
    "\n",
    "plot_decision_boundary(X_train, y_train, model);"
   ]
  },
  {
   "cell_type": "code",
   "execution_count": null,
   "metadata": {},
   "outputs": [],
   "source": [
    "model = Sequential()\n",
    "model.add(Dense(20, activation='relu', input_dim=3))\n",
    "model.add(Dense(11, activation='relu'))\n",
    "model.add(Dense(11, activation='relu'))\n",
    "model.add(Dense(3, activation='softmax'))\n",
    "\n",
    "model.compile('adam', 'categorical_crossentropy', metrics=['accuracy'])\n",
    "\n",
    "history = model.fit(X_train, y_train, epochs=10, verbose=1)\n",
    "\n",
    "plot_history(history, ['acc'])\n",
    "\n",
    "train_accuracy = model.evaluate(X_test, y_test)[1]\n",
    "test_accuracy = model.evaluate(X_train, y_train)[1]\n",
    "\n",
    "print(\"Train Accuracy: %.3f\" % train_accuracy)\n",
    "print(\"Test Accuracy: %.3f\" % test_accuracy)\n",
    "\n",
    "plot_decision_boundary(X_train, y_train, model);"
   ]
  }
 ],
 "metadata": {
  "kernelspec": {
   "display_name": "Python 3",
   "language": "python",
   "name": "python3"
  },
  "language_info": {
   "codemirror_mode": {
    "name": "ipython",
    "version": 3
   },
   "file_extension": ".py",
   "mimetype": "text/x-python",
   "name": "python",
   "nbconvert_exporter": "python",
   "pygments_lexer": "ipython3",
   "version": "3.6.4"
  }
 },
 "nbformat": 4,
 "nbformat_minor": 2
}
