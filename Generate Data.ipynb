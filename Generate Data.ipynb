{
 "cells": [
  {
   "cell_type": "code",
   "execution_count": 1,
   "metadata": {},
   "outputs": [],
   "source": [
    "import numpy as np\n",
    "import matplotlib.pyplot as plt\n",
    "\n",
    "from sklearn.datasets import make_moons\n",
    "from sklearn.model_selection import train_test_split"
   ]
  },
  {
   "cell_type": "markdown",
   "metadata": {},
   "source": [
    "### Generate classification data"
   ]
  },
  {
   "cell_type": "code",
   "execution_count": 2,
   "metadata": {},
   "outputs": [],
   "source": [
    "X, y = make_moons(n_samples=20000, noise=0.01, random_state=0)\n",
    "dataset = np.column_stack([X, y])\n",
    "dataset = dataset[dataset[:, 1].argsort()]\n",
    "dataset = dataset[dataset[:, 0].argsort(kind='mergesort')]\n",
    "\n",
    "train_dataset, test_dataset = train_test_split(dataset, random_state=42, test_size=0.15)"
   ]
  },
  {
   "cell_type": "code",
   "execution_count": 3,
   "metadata": {},
   "outputs": [
    {
     "data": {
      "image/png": "[encoded data removed]",
      "text/plain": [
       "<Figure size 432x288 with 1 Axes>"
      ]
     },
     "metadata": {},
     "output_type": "display_data"
    }
   ],
   "source": [
    "fig = plt.figure()\n",
    "ax = fig.add_subplot(111)\n",
    "ax.scatter(dataset[:, 0], dataset[:, 1], c=dataset[:, 2]);"
   ]
  },
  {
   "cell_type": "code",
   "execution_count": 4,
   "metadata": {},
   "outputs": [],
   "source": [
    "np.savetxt(\"train_classification_dataset.csv\", train_dataset, delimiter=\",\", header=\"x, y, class\")\n",
    "np.savetxt(\"test_classification_dataset.csv\", test_dataset, delimiter=\",\", header=\"x, y, class\")"
   ]
  },
  {
   "cell_type": "markdown",
   "metadata": {},
   "source": [
    "### Generate data for Regression"
   ]
  },
  {
   "cell_type": "code",
   "execution_count": 5,
   "metadata": {},
   "outputs": [],
   "source": [
    "class1_data = dataset[dataset[:, 2] == True]\n",
    "class2_data = dataset[dataset[:, 2] == False]\n",
    "\n",
    "regression_dataset = []\n",
    "a = np.array([0, 1500, 3000])\n",
    "inputs = class1_data[:, :2]\n",
    "for i in range(class1_data.shape[0] - 3000):\n",
    "    regression_dataset.append(inputs[a + i].ravel())\n",
    "\n",
    "inputs = class2_data[:, :2]\n",
    "for i in range(class1_data.shape[0] - 3000):\n",
    "    regression_dataset.append(inputs[a + i].ravel())\n",
    "    \n",
    "regression_dataset = np.array(regression_dataset)"
   ]
  },
  {
   "cell_type": "code",
   "execution_count": 6,
   "metadata": {},
   "outputs": [],
   "source": [
    "train_dataset, test_dataset = train_test_split(regression_dataset, random_state=42, test_size=0.15)"
   ]
  },
  {
   "cell_type": "code",
   "execution_count": 7,
   "metadata": {},
   "outputs": [],
   "source": [
    "np.savetxt(\"train_regression_dataset.csv\", train_dataset, delimiter=\",\", header=\"x1, y1, x2, y2, x_target, y_target\")\n",
    "np.savetxt(\"test_regression_dataset.csv\", test_dataset, delimiter=\",\", header=\"x1, y1, x2, y2, x_target, y_target\")"
   ]
  }
 ],
 "metadata": {
  "kernelspec": {
   "display_name": "Python 3",
   "language": "python",
   "name": "python3"
  },
  "language_info": {
   "codemirror_mode": {
    "name": "ipython",
    "version": 3
   },
   "file_extension": ".py",
   "mimetype": "text/x-python",
   "name": "python",
   "nbconvert_exporter": "python",
   "pygments_lexer": "ipython3",
   "version": "3.6.4"
  }
 },
 "nbformat": 4,
 "nbformat_minor": 2
}
